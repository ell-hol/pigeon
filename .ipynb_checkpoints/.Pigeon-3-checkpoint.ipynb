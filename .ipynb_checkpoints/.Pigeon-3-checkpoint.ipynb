{
 "cells": [
  {
   "cell_type": "code",
   "execution_count": 1,
   "metadata": {},
   "outputs": [],
   "source": [
    "from pigeon import annotate"
   ]
  },
  {
   "cell_type": "code",
   "execution_count": 2,
   "metadata": {},
   "outputs": [
    {
     "data": {
      "application/vnd.jupyter.widget-view+json": {
       "model_id": "6e6de9d534fb4296b2e329455cd288d1",
       "version_major": 2,
       "version_minor": 0
      },
      "text/plain": [
       "HTML(value='0 examples annotated, 3 examples left')"
      ]
     },
     "metadata": {},
     "output_type": "display_data"
    },
    {
     "data": {
      "application/vnd.jupyter.widget-view+json": {
       "model_id": "6e7145922f954307a309bccb3974aa10",
       "version_major": 2,
       "version_minor": 0
      },
      "text/plain": [
       "HBox(children=(Button(description='positive', style=ButtonStyle()), Button(description='negative', style=Butto…"
      ]
     },
     "metadata": {},
     "output_type": "display_data"
    },
    {
     "data": {
      "application/vnd.jupyter.widget-view+json": {
       "model_id": "d05664a09a8143288d4c46428268bf37",
       "version_major": 2,
       "version_minor": 0
      },
      "text/plain": [
       "Output()"
      ]
     },
     "metadata": {},
     "output_type": "display_data"
    }
   ],
   "source": [
    "annotations = annotate(\n",
    "['I love this movie', 'I was really disappointed by the book'],\n",
    "options=['positive', 'negative']\n",
    ")\n"
   ]
  },
  {
   "cell_type": "code",
   "execution_count": 3,
   "metadata": {},
   "outputs": [
    {
     "data": {
      "application/vnd.jupyter.widget-view+json": {
       "model_id": "d4d31caf6c8746ebbea6fef93506ccea",
       "version_major": 2,
       "version_minor": 0
      },
      "text/plain": [
       "HTML(value='0 examples annotated, 3 examples left')"
      ]
     },
     "metadata": {},
     "output_type": "display_data"
    },
    {
     "data": {
      "application/vnd.jupyter.widget-view+json": {
       "model_id": "a75cbe61595d46948eb7aaee959fc69f",
       "version_major": 2,
       "version_minor": 0
      },
      "text/plain": [
       "HBox(children=(Button(description='cat', style=ButtonStyle()), Button(description='dog', style=ButtonStyle()),…"
      ]
     },
     "metadata": {},
     "output_type": "display_data"
    },
    {
     "data": {
      "application/vnd.jupyter.widget-view+json": {
       "model_id": "b8e147de335e4ce3b1d0728c77af9041",
       "version_major": 2,
       "version_minor": 0
      },
      "text/plain": [
       "Output()"
      ]
     },
     "metadata": {},
     "output_type": "display_data"
    },
    {
     "name": "stdout",
     "output_type": "stream",
     "text": [
      "Annotation done.\n"
     ]
    }
   ],
   "source": [
    "from pigeon import annotate\n",
    "from IPython.display import display, Image\n",
    "\n",
    "annotations = annotate(\n",
    "['assets/chat.jpg', 'assets/chien.jpg'],\n",
    "options=['cat', 'dog', 'horse'],\n",
    "display_fn=lambda filename: display(Image(filename))\n",
    ")\n"
   ]
  },
  {
   "cell_type": "code",
   "execution_count": 32,
   "metadata": {},
   "outputs": [
    {
     "name": "stdout",
     "output_type": "stream",
     "text": [
      "fichier : assets/chat.jpg ==> Classe : cat\n",
      "fichier : assets/chien.jpg ==> Classe : dog\n"
     ]
    }
   ],
   "source": [
    "annotations\n",
    "tmp = ['fichier : '+ el[0] + ' ==> Classe : '+ el[1] for el in annotations]\n",
    "results = \"\\n\".join(tmp)\n",
    "print(results)\n"
   ]
  },
  {
   "cell_type": "code",
   "execution_count": 34,
   "metadata": {},
   "outputs": [
    {
     "data": {
      "application/vnd.jupyter.widget-view+json": {
       "model_id": "97cd44e9605f45e399c199c6c3ba9b0a",
       "version_major": 2,
       "version_minor": 0
      },
      "text/plain": [
       "VBox(children=(Text(value='', disabled=True, layout=Layout(width='800px'), placeholder=''), HBox(children=(But…"
      ]
     },
     "metadata": {},
     "output_type": "display_data"
    },
    {
     "name": "stdout",
     "output_type": "stream",
     "text": [
      "fichier : assets/chat.jpg ==> Classe : cat\n",
      "fichier : assets/chien.jpg ==> Classe : dog\n"
     ]
    }
   ],
   "source": [
    "\n",
    "from __future__ import division\n",
    "import ipywidgets as ipw\n",
    "\n",
    "output = ipw.Text(placeholder=\"\", layout=ipw.Layout(width=\"800px\"),  disabled=True)\n",
    "\n",
    "def on_click(btn):\n",
    "    print(results)\n",
    "\n",
    "def mk_btn(description):\n",
    "    btn = ipw.Button(description=description, layout=ipw.Layout(width=\"200px\"))\n",
    "    btn.on_click(on_click)\n",
    "    return btn\n",
    "\n",
    "row0 = ipw.HBox([mk_btn(d) for d in [\"Annotations\"]])\n",
    "ipw.VBox((output, row0))"
   ]
  },
  {
   "cell_type": "code",
   "execution_count": null,
   "metadata": {},
   "outputs": [],
   "source": []
  }
 ],
 "metadata": {
  "kernelspec": {
   "display_name": "Python 3",
   "language": "python",
   "name": "python3"
  },
  "language_info": {
   "codemirror_mode": {
    "name": "ipython",
    "version": 3
   },
   "file_extension": ".py",
   "mimetype": "text/x-python",
   "name": "python",
   "nbconvert_exporter": "python",
   "pygments_lexer": "ipython3",
   "version": "3.6.8"
  },
  "widgets": {
   "application/vnd.jupyter.widget-state+json": {
    "state": {},
    "version_major": 2,
    "version_minor": 0
   }
  }
 },
 "nbformat": 4,
 "nbformat_minor": 4
}
